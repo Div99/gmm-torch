{
 "cells": [
  {
   "cell_type": "code",
   "execution_count": 4,
   "id": "1cddf967-1d0d-497c-a3e9-304c2d366f24",
   "metadata": {
    "pycharm": {
     "name": "#%%\n"
    },
    "tags": []
   },
   "outputs": [],
   "source": [
    "%autoreload 9\n",
    "\n",
    "import torch\n",
    "import numpy as np\n",
    "import matplotlib.pyplot as plt\n",
    "import os\n",
    "\n",
    "from torch.utils.tensorboard import SummaryWriter\n",
    "\n",
    "import gmm\n",
    "import gmm_gumbel\n",
    "\n",
    "from example import plot\n",
    "from gumbel_regression import gumbel_stable_loss\n",
    "\n",
    "from example import create_data_1\n",
    "\n",
    "def create_data():\n",
    "    np.random.seed(0)\n",
    "    n_per_cluster = 40\n",
    "    means = np.array([[0,0], [-5,5], [5,5]])\n",
    "    X = np.vstack([np.random.randn(n_per_cluster, 2) + mu for mu in means])\n",
    "    true_y = np.array([0] * n_per_cluster + [1] * n_per_cluster + [2] * n_per_cluster)\n",
    "    return torch.Tensor(X), true_y\n",
    "\n",
    "def create_data2():\n",
    "    np.random.seed(0)\n",
    "    n_per_cluster = 50\n",
    "    means = np.array([[0,0], [-5, -5]])\n",
    "    X = np.vstack([np.random.randn(n_per_cluster, 2) + mu for mu in means])\n",
    "    true_y = np.array([0] * n_per_cluster + [1] * n_per_cluster)\n",
    "    return torch.Tensor(X), true_y"
   ]
  },
  {
   "cell_type": "code",
   "execution_count": 6,
   "id": "6f75bf9f-29ec-4d9d-a76a-022aca1b6caf",
   "metadata": {
    "pycharm": {
     "name": "#%%\n"
    },
    "tags": []
   },
   "outputs": [
    {
     "ename": "ValueError",
     "evalue": "too many values to unpack (expected 2)",
     "output_type": "error",
     "traceback": [
      "\u001b[0;31m---------------------------------------------------------------------------\u001b[0m",
      "\u001b[0;31mValueError\u001b[0m                                Traceback (most recent call last)",
      "Cell \u001b[0;32mIn[6], line 67\u001b[0m\n\u001b[1;32m     62\u001b[0m         g_fitter\u001b[38;5;241m.\u001b[39mupdate_var(var)\n\u001b[1;32m     64\u001b[0m     writer\u001b[38;5;241m.\u001b[39mclose()\n\u001b[0;32m---> 67\u001b[0m \u001b[43mmain\u001b[49m\u001b[43m(\u001b[49m\u001b[43m)\u001b[49m\n",
      "Cell \u001b[0;32mIn[6], line 18\u001b[0m, in \u001b[0;36mmain\u001b[0;34m()\u001b[0m\n\u001b[1;32m     16\u001b[0m K \u001b[38;5;241m=\u001b[39m \u001b[38;5;241m4\u001b[39m\n\u001b[1;32m     17\u001b[0m D \u001b[38;5;241m=\u001b[39m \u001b[38;5;241m2\u001b[39m\n\u001b[0;32m---> 18\u001b[0m data, true_y \u001b[38;5;241m=\u001b[39m create_data_1(N\u001b[38;5;241m=\u001b[39mN, K\u001b[38;5;241m=\u001b[39mK, D\u001b[38;5;241m=\u001b[39mD)\n\u001b[1;32m     19\u001b[0m N \u001b[38;5;241m=\u001b[39m \u001b[38;5;28mlen\u001b[39m(data)\n\u001b[1;32m     20\u001b[0m g_fitter \u001b[38;5;241m=\u001b[39m gmm_gumbel\u001b[38;5;241m.\u001b[39mGaussianMixtureGumbel(n_components\u001b[38;5;241m=\u001b[39mK, n_features\u001b[38;5;241m=\u001b[39mD)\n",
      "\u001b[0;31mValueError\u001b[0m: too many values to unpack (expected 2)"
     ]
    }
   ],
   "source": [
    "def loss_fn(V, logP):\n",
    "    # loss = gumbel_stable_loss(logP - V, clip=10) # + logP\n",
    "\n",
    "    loss = torch.mean(torch.exp(logP-V) - V - 1)\n",
    "    z = logP - V\n",
    "\n",
    "    max_z = torch.max(z)\n",
    "    max_z = torch.where(max_z < -1.0, torch.tensor(-1.0, dtype=torch.double, device=max_z.device), max_z)\n",
    "    max_z = max_z.detach()  # Detach the gradients\n",
    "    loss = loss * torch.exp(-max_z)\n",
    "    return loss\n",
    "\n",
    "\n",
    "def main():\n",
    "    N = 300\n",
    "    K = 4\n",
    "    D = 2\n",
    "    data, true_y = create_data_1(N=N, K=K, D=D)\n",
    "    N = len(data)\n",
    "    g_fitter = gmm_gumbel.GaussianMixtureGumbel(n_components=K, n_features=D)\n",
    "    max_iter = 100\n",
    "    writer = SummaryWriter()\n",
    "    \n",
    "\n",
    "    V = torch.zeros(n, requires_grad=True) \n",
    "    V_mean = torch.mean(V)\n",
    "    V_lr = 0.01\n",
    "    V_optim = torch.optim.Adam([V], lr=V_lr)\n",
    "    # loss_fn = gumbel_stable_loss\n",
    "\n",
    "    logP = g_fitter._estimate_log_prob(data)\n",
    "    loss = loss_fn(V, logP)  # TODO: Do we need to compute mean here?\n",
    "    writer.add_scalar('loss', loss, 0)\n",
    "    \n",
    "    # Randomly initialize means\n",
    "    g_fitter.mu = torch.nn.Parameter(torch.Tensor([[[-5, -5], [0,0]]]), requires_grad=False)\n",
    "\n",
    "    for iter_ in range(max_iter):\n",
    "        pred_y = g_fitter.predict(data)\n",
    "        if iter_ % 1 == 0:\n",
    "            plot(data, true_y, pred_y, iter_, g_fitter.mu)\n",
    "\n",
    "        # Do V step\n",
    "        logP = g_fitter._estimate_log_prob(data)\n",
    "\n",
    "        V_optim.zero_grad()\n",
    "        # loss = torch.mean(loss_fn(data-V))\n",
    "        loss = loss_fn(V, logP)\n",
    "        loss = loss.mean()\n",
    "        writer.add_scalar('loss', loss, iter_+1)\n",
    "        loss.backward(retain_graph=True)\n",
    "        V_optim.step()\n",
    "        print(\"Loss:\", loss, \"\\n\")\n",
    "        \n",
    "        # Do theta step\n",
    "        weighted_log_prob = logP + np.log(1/k) * torch.ones_like(logP)\n",
    "        log_prob_norm = V.unsqueeze(1).unsqueeze(2)\n",
    "        log_resp = weighted_log_prob - log_prob_norm\n",
    "        pi, mu, var = g_fitter._m_step(data, log_resp)\n",
    "        g_fitter.update_pi(pi)\n",
    "        g_fitter.update_mu(mu)\n",
    "        g_fitter.update_var(var)\n",
    "\n",
    "    writer.close()\n",
    "\n",
    "\n",
    "main()\n"
   ]
  },
  {
   "cell_type": "code",
   "execution_count": null,
   "id": "cbb79b26-060d-4e13-886d-70a15989aba6",
   "metadata": {},
   "outputs": [],
   "source": []
  }
 ],
 "metadata": {
  "kernelspec": {
   "display_name": "Python 3 (ipykernel)",
   "language": "python",
   "name": "python3"
  },
  "language_info": {
   "codemirror_mode": {
    "name": "ipython",
    "version": 3
   },
   "file_extension": ".py",
   "mimetype": "text/x-python",
   "name": "python",
   "nbconvert_exporter": "python",
   "pygments_lexer": "ipython3",
   "version": "3.11.0"
  }
 },
 "nbformat": 4,
 "nbformat_minor": 5
}
