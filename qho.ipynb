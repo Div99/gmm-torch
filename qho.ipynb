{
 "cells": [
  {
   "cell_type": "code",
   "execution_count": 1,
   "id": "4bced849-5fa1-4213-ab0b-f811bc0ebf02",
   "metadata": {
    "tags": []
   },
   "outputs": [],
   "source": [
    "import numpy as np\n",
    "import torch\n",
    "from matplotlib import pyplot as plt\n",
    "from scipy import stats\n",
    "from functools import partial\n",
    "import seaborn as sns"
   ]
  },
  {
   "cell_type": "code",
   "execution_count": 2,
   "id": "b3c1ea44-a06d-4bef-8a98-0dfaa906e994",
   "metadata": {
    "tags": []
   },
   "outputs": [],
   "source": [
    "def gumbel_loss(diff, beta):\n",
    "    z = diff/beta\n",
    "    loss = torch.exp(z) - z - 1 \n",
    "    return loss\n",
    "\n",
    "def gumbel_stable_loss(diff, beta, clip=None):\n",
    "    z = diff/beta\n",
    "    if clip is not None:\n",
    "        z = torch.clamp(z, max=clip)\n",
    "    max_z = torch.max(z)\n",
    "    max_z = torch.where(max_z < -1.0, torch.tensor(-1.0, dtype=torch.double, device=max_z.device), max_z)\n",
    "    max_z = max_z.detach() # Detach the gradients\n",
    "    loss = torch.exp(z - max_z) - z*torch.exp(-max_z) - torch.exp(-max_z)    # scale by e^max_z\n",
    "    return loss"
   ]
  },
  {
   "cell_type": "code",
   "execution_count": 3,
   "id": "1a6013eb-00bc-4126-86f4-3ad46c3446f3",
   "metadata": {
    "tags": []
   },
   "outputs": [],
   "source": [
    "def gumbel_fit(data, betas, lr=0.01, steps=100, times=10, stable=False, min=False):\n",
    "    if not stable:\n",
    "      loss_fn = gumbel_loss\n",
    "    else: \n",
    "      loss_fn = gumbel_stable_loss\n",
    "\n",
    "    out = []\n",
    "    for beta in betas:\n",
    "        solves = []\n",
    "        opt = log_partition(data, beta)\n",
    "        # We estimate the log-partition function 10 times to calculate the mean and std of the estimations\n",
    "        for times in range(times):\n",
    "            expectile = solver_1d(data, partial(loss_fn, beta=beta), lr=lr, steps=steps)\n",
    "            solves.append(expectile[0])\n",
    "            # print(solves)\n",
    "        solves = np.array(solves)\n",
    "        print(f\"Temperature {beta}, Estimated log-partition: {solves.mean()}, True: {opt}\")\n",
    "        diff = solves - opt\n",
    "        print(f\"Estimation error: Mean: {diff.mean()}, Std: {diff.std()}\\n\\n\")\n",
    "        out.append([solves.mean(), opt])\n",
    "\n",
    "    return out\n"
   ]
  },
  {
   "cell_type": "code",
   "execution_count": 9,
   "id": "9b0d78e0-e17c-4311-a5ed-a1416cd1db23",
   "metadata": {
    "tags": []
   },
   "outputs": [],
   "source": [
    "from scipy.special import logsumexp\n",
    "\n",
    "def log_partition(x, beta):\n",
    "    \"\"\"Analytically calculate the Log-Partition over an emperical distribution \n",
    "    \"\"\"\n",
    "    n = x.shape[0]\n",
    "    return beta * logsumexp(x/beta) - beta * np.log(n)\n",
    "\n",
    "def solver_1d(data, loss_fn, lr=0.005, batch=128, steps=4000):\n",
    "    \"\"\" Estimate Log-Partition function using Gumbel loss with SGD\n",
    "    \"\"\"\n",
    "    if isinstance(data, np.ndarray):\n",
    "        data = torch.from_numpy(data)\n",
    "    statistic = torch.zeros(1, requires_grad=True)\n",
    "    optim = torch.optim.Adam([statistic], lr=lr)\n",
    "    for _ in range(steps):\n",
    "        # Sample a batch\n",
    "        perm = torch.randperm(data.size(0))\n",
    "        idx = perm[:batch]\n",
    "        samples = data[idx]\n",
    "\n",
    "        optim.zero_grad()\n",
    "        loss = torch.mean(loss_fn(samples-statistic))\n",
    "        loss.backward()\n",
    "        optim.step()\n",
    "    return statistic.detach().cpu().numpy()\n",
    "\n",
    "def analytic_logpartition(beta, C):\n",
    "  Z = 1/2 * 1/np.sinh(C * beta/2)\n",
    "  return np.log(Z)"
   ]
  },
  {
   "cell_type": "code",
   "execution_count": 10,
   "id": "580ffa60-4365-4655-b7df-81c92c0871e5",
   "metadata": {
    "tags": []
   },
   "outputs": [],
   "source": [
    "k_b = 1.380649 * 1.e-23\n",
    "\n",
    "C = (1.e-20)/k_b"
   ]
  },
  {
   "cell_type": "code",
   "execution_count": 8,
   "id": "68f50086-396e-43d7-b89b-7301a6e907f5",
   "metadata": {
    "tags": []
   },
   "outputs": [
    {
     "name": "stdout",
     "output_type": "stream",
     "text": [
      "Temperature 1, Estimated log-partition: -49.997615814208984, True: -371.35886617397216\n",
      "Estimation error: Mean: 321.3612365722656, Std: 0.0\n",
      "\n",
      "\n",
      "Temperature 1, Estimated log-partition: -26.64498519897461, True: -26.455508267309323\n",
      "Estimation error: Mean: -0.1894764006137848, Std: 0.28592726588249207\n",
      "\n",
      "\n",
      "Temperature 1, Estimated log-partition: -18.086082458496094, True: -18.04323122392163\n",
      "Estimation error: Mean: -0.04285125806927681, Std: 0.09538759291172028\n",
      "\n",
      "\n",
      "Temperature 1, Estimated log-partition: -15.134950637817383, True: -15.147194479465991\n",
      "Estimation error: Mean: 0.012243842706084251, Std: 0.16993598639965057\n",
      "\n",
      "\n",
      "Temperature 1, Estimated log-partition: -13.913981437683105, True: -13.681179030558694\n",
      "Estimation error: Mean: -0.2328025847673416, Std: 0.21839213371276855\n",
      "\n",
      "\n",
      "Temperature 1, Estimated log-partition: -12.85058879852295, True: -12.795200689395951\n",
      "Estimation error: Mean: -0.05538826063275337, Std: 0.18392667174339294\n",
      "\n",
      "\n",
      "Temperature 1, Estimated log-partition: -12.397920608520508, True: -12.200786345352906\n",
      "Estimation error: Mean: -0.19713401794433594, Std: 0.2663808763027191\n",
      "\n",
      "\n",
      "Temperature 1, Estimated log-partition: -11.816156387329102, True: -11.772876180204882\n",
      "Estimation error: Mean: -0.043280601501464844, Std: 0.17432352900505066\n",
      "\n",
      "\n",
      "Temperature 1, Estimated log-partition: -11.42339038848877, True: -11.448524765410177\n",
      "Estimation error: Mean: 0.02513446845114231, Std: 0.22158227860927582\n",
      "\n",
      "\n",
      "Temperature 1, Estimated log-partition: -11.259506225585938, True: -11.192706103994235\n",
      "Estimation error: Mean: -0.06680049747228622, Std: 0.21602976322174072\n",
      "\n",
      "\n",
      "Temperature 1, Estimated log-partition: -11.189018249511719, True: -10.984467618357264\n",
      "Estimation error: Mean: -0.2045503556728363, Std: 0.3126275837421417\n",
      "\n",
      "\n",
      "Temperature 1, Estimated log-partition: -10.794500350952148, True: -10.81056373148769\n",
      "Estimation error: Mean: 0.016062546521425247, Std: 0.1114216223359108\n",
      "\n",
      "\n",
      "Temperature 1, Estimated log-partition: -10.701936721801758, True: -10.662243363831273\n",
      "Estimation error: Mean: -0.03969306871294975, Std: 0.35376667976379395\n",
      "\n",
      "\n",
      "Temperature 1, Estimated log-partition: -10.519529342651367, True: -10.53351025847338\n",
      "Estimation error: Mean: 0.013980483636260033, Std: 0.20691841840744019\n",
      "\n",
      "\n",
      "Temperature 1, Estimated log-partition: -10.493692398071289, True: -10.420126984600987\n",
      "Estimation error: Mean: -0.0735652893781662, Std: 0.15020106732845306\n",
      "\n",
      "\n",
      "Temperature 1, Estimated log-partition: -10.15695571899414, True: -10.31901828866316\n",
      "Estimation error: Mean: 0.16206303238868713, Std: 0.11649297177791595\n",
      "\n",
      "\n",
      "Temperature 1, Estimated log-partition: -10.22765827178955, True: -10.22789986582696\n",
      "Estimation error: Mean: 0.00024127960205078125, Std: 0.16368447244167328\n",
      "\n",
      "\n",
      "Temperature 1, Estimated log-partition: -10.027506828308105, True: -10.145039772545712\n",
      "Estimation error: Mean: 0.11753273010253906, Std: 0.13101279735565186\n",
      "\n",
      "\n",
      "Temperature 1, Estimated log-partition: -10.13803768157959, True: -10.069100697212527\n",
      "Estimation error: Mean: -0.06893787533044815, Std: 0.15453113615512848\n",
      "\n",
      "\n",
      "Temperature 1, Estimated log-partition: -9.97752571105957, True: -9.999033056810749\n",
      "Estimation error: Mean: 0.021508026868104935, Std: 0.21989211440086365\n",
      "\n",
      "\n"
     ]
    }
   ],
   "source": [
    "lr = 1e-2\n",
    "steps = 5000\n",
    "\n",
    "temps = range(1, 400, 20)\n",
    "betas = [1/T for T in temps]\n",
    "\n",
    "N = 10000\n",
    "\n",
    "preds, actuals = [], []\n",
    "\n",
    "for beta in betas:\n",
    "  data = np.array([-(n + 1/2) * C * beta for n in range(0, N)])\n",
    "  # print(data[:20])\n",
    "\n",
    "  out = gumbel_fit(data, [1], lr, steps, times=5, stable=False)\n",
    "  pred, gt = out[0]\n",
    "\n",
    "  preds.append(pred)\n",
    "  actuals.append(gt)"
   ]
  },
  {
   "cell_type": "code",
   "execution_count": 54,
   "id": "07a1d738-6696-4a8e-9366-60dd0f3e4aaf",
   "metadata": {
    "tags": []
   },
   "outputs": [
    {
     "data": {
      "image/png": "[encoded data removed]",
      "text/plain": [
       "<Figure size 640x480 with 1 Axes>"
      ]
     },
     "metadata": {},
     "output_type": "display_data"
    }
   ],
   "source": [
    "analytic = np.array([analytic_logpartition(beta, C) for beta in betas])\n",
    "\n",
    "def temperature_plot(temps, preds, actuals, N, nn_temps=None, nn_preds=None):\n",
    "    plt.scatter(temps, preds + np.log(N), label=f\"estimated\", color = 'blue')\n",
    "    plt.scatter(temps, actuals + np.log(N), label=f\"actual\", color = 'red')\n",
    "\n",
    "    plt.plot(temps, preds + np.log(N), label=f\"estimated\", color = 'blue')\n",
    "    plt.plot(temps, actuals + np.log(N), label=f\"actual\", color = 'red')\n",
    "    \n",
    "    if nn_temps is not None:\n",
    "        assert nn_temps.shape == nn_preds.shape, \"NN temperatures and preds must be of the same shape\"\n",
    "        plt.plot(nn_temps, nn_preds.detach() + np.log(N), label=f\"NN model\", color='green')\n",
    "        \n",
    "    # plt.plot(temps, analytic, label=f\"analytic\", color = 'green')\n",
    "\n",
    "    plt.title(\"Log Partition fits\")\n",
    "    plt.xlabel(\"temp\")\n",
    "    plt.ylabel(\"LogZ\")\n",
    "    plt.legend()\n",
    "    plt.show()\n",
    "\n",
    "temperature_plot(temps, preds, actuals, N)"
   ]
  },
  {
   "cell_type": "code",
   "execution_count": 67,
   "id": "96d98336-3c20-4e87-b58e-8556f2306a38",
   "metadata": {
    "tags": []
   },
   "outputs": [],
   "source": [
    "import torch.nn as nn\n",
    "import torch.nn.functional as F\n",
    "\n",
    "class ReluModel(nn.Module):\n",
    "    def __init__(self):\n",
    "        super().__init__()\n",
    "        self.fc1 = nn.Linear(1, 1024)\n",
    "        self.fc2 = nn.Linear(1024, 1024)\n",
    "        self.fc3 = nn.Linear(1024, 1)\n",
    "\n",
    "    def forward(self, x):\n",
    "        return self.fc3(F.relu(self.fc2(F.relu(self.fc1(x)))))"
   ]
  },
  {
   "cell_type": "code",
   "execution_count": 69,
   "id": "79da2dc2-7970-4b25-b0e5-a2bb11581f38",
   "metadata": {
    "tags": []
   },
   "outputs": [
    {
     "name": "stdout",
     "output_type": "stream",
     "text": [
      "Iteration 0 loss:  tensor(7816.8906, grad_fn=<MeanBackward0>)\n",
      "Iteration 100 loss:  tensor(69.1464, grad_fn=<MeanBackward0>)\n",
      "Iteration 200 loss:  tensor(13413.2578, grad_fn=<MeanBackward0>)\n",
      "Iteration 300 loss:  tensor(12921.0225, grad_fn=<MeanBackward0>)\n",
      "Iteration 400 loss:  tensor(12327.3721, grad_fn=<MeanBackward0>)\n",
      "Iteration 500 loss:  tensor(11482.6777, grad_fn=<MeanBackward0>)\n",
      "Iteration 600 loss:  tensor(10494.6279, grad_fn=<MeanBackward0>)\n",
      "Iteration 700 loss:  tensor(34.5540, grad_fn=<MeanBackward0>)\n",
      "Iteration 800 loss:  tensor(145.7148, grad_fn=<MeanBackward0>)\n",
      "Iteration 900 loss:  tensor(85.3014, grad_fn=<MeanBackward0>)\n",
      "Iteration 1000 loss:  tensor(83.7557, grad_fn=<MeanBackward0>)\n",
      "Iteration 1100 loss:  tensor(5837.3599, grad_fn=<MeanBackward0>)\n",
      "Iteration 1200 loss:  tensor(4864.5615, grad_fn=<MeanBackward0>)\n",
      "Iteration 1300 loss:  tensor(4055.0269, grad_fn=<MeanBackward0>)\n",
      "Iteration 1400 loss:  tensor(332.1575, grad_fn=<MeanBackward0>)\n",
      "Iteration 1500 loss:  tensor(2164.6450, grad_fn=<MeanBackward0>)\n",
      "Iteration 1600 loss:  tensor(1822.3030, grad_fn=<MeanBackward0>)\n",
      "Iteration 1700 loss:  tensor(341.0274, grad_fn=<MeanBackward0>)\n",
      "Iteration 1800 loss:  tensor(1049.2271, grad_fn=<MeanBackward0>)\n",
      "Iteration 1900 loss:  tensor(192.1876, grad_fn=<MeanBackward0>)\n",
      "Iteration 2000 loss:  tensor(617.0124, grad_fn=<MeanBackward0>)\n",
      "Iteration 2100 loss:  tensor(571.2159, grad_fn=<MeanBackward0>)\n",
      "Iteration 2200 loss:  tensor(317.0888, grad_fn=<MeanBackward0>)\n",
      "Iteration 2300 loss:  tensor(251.1123, grad_fn=<MeanBackward0>)\n",
      "Iteration 2400 loss:  tensor(100.4520, grad_fn=<MeanBackward0>)\n",
      "Iteration 2500 loss:  tensor(94.3324, grad_fn=<MeanBackward0>)\n",
      "Iteration 2600 loss:  tensor(127.0749, grad_fn=<MeanBackward0>)\n",
      "Iteration 2700 loss:  tensor(66.5826, grad_fn=<MeanBackward0>)\n",
      "Iteration 2800 loss:  tensor(57.4697, grad_fn=<MeanBackward0>)\n",
      "Iteration 2900 loss:  tensor(90.5696, grad_fn=<MeanBackward0>)\n",
      "Iteration 3000 loss:  tensor(114.3588, grad_fn=<MeanBackward0>)\n",
      "Iteration 3100 loss:  tensor(20.7780, grad_fn=<MeanBackward0>)\n",
      "Iteration 3200 loss:  tensor(11.0695, grad_fn=<MeanBackward0>)\n",
      "Iteration 3300 loss:  tensor(13.7201, grad_fn=<MeanBackward0>)\n",
      "Iteration 3400 loss:  tensor(10.2903, grad_fn=<MeanBackward0>)\n",
      "Iteration 3500 loss:  tensor(5.8949, grad_fn=<MeanBackward0>)\n",
      "Iteration 3600 loss:  tensor(3.1548, grad_fn=<MeanBackward0>)\n",
      "Iteration 3700 loss:  tensor(2.5616, grad_fn=<MeanBackward0>)\n",
      "Iteration 3800 loss:  tensor(74.8490, grad_fn=<MeanBackward0>)\n",
      "Iteration 3900 loss:  tensor(5.5526, grad_fn=<MeanBackward0>)\n",
      "Iteration 4000 loss:  tensor(10.6674, grad_fn=<MeanBackward0>)\n",
      "Iteration 4100 loss:  tensor(86.3003, grad_fn=<MeanBackward0>)\n",
      "Iteration 4200 loss:  tensor(0.6039, grad_fn=<MeanBackward0>)\n",
      "Iteration 4300 loss:  tensor(1.6317, grad_fn=<MeanBackward0>)\n",
      "Iteration 4400 loss:  tensor(1.3992, grad_fn=<MeanBackward0>)\n",
      "Iteration 4500 loss:  tensor(0.6215, grad_fn=<MeanBackward0>)\n",
      "Iteration 4600 loss:  tensor(0.4972, grad_fn=<MeanBackward0>)\n",
      "Iteration 4700 loss:  tensor(1.1237, grad_fn=<MeanBackward0>)\n",
      "Iteration 4800 loss:  tensor(2.4187, grad_fn=<MeanBackward0>)\n",
      "Iteration 4900 loss:  tensor(0.5607, grad_fn=<MeanBackward0>)\n",
      "Iteration 5000 loss:  tensor(2.5447, grad_fn=<MeanBackward0>)\n",
      "Iteration 5100 loss:  tensor(3.1534, grad_fn=<MeanBackward0>)\n",
      "Iteration 5200 loss:  tensor(0.8778, grad_fn=<MeanBackward0>)\n",
      "Iteration 5300 loss:  tensor(0.5355, grad_fn=<MeanBackward0>)\n",
      "Iteration 5400 loss:  tensor(0.5863, grad_fn=<MeanBackward0>)\n",
      "Iteration 5500 loss:  tensor(4.0981, grad_fn=<MeanBackward0>)\n",
      "Iteration 5600 loss:  tensor(1.2094, grad_fn=<MeanBackward0>)\n",
      "Iteration 5700 loss:  tensor(52.0026, grad_fn=<MeanBackward0>)\n",
      "Iteration 5800 loss:  tensor(10.7950, grad_fn=<MeanBackward0>)\n",
      "Iteration 5900 loss:  tensor(0.7692, grad_fn=<MeanBackward0>)\n",
      "Iteration 6000 loss:  tensor(0.4817, grad_fn=<MeanBackward0>)\n",
      "Iteration 6100 loss:  tensor(1.1483, grad_fn=<MeanBackward0>)\n",
      "Iteration 6200 loss:  tensor(0.8212, grad_fn=<MeanBackward0>)\n",
      "Iteration 6300 loss:  tensor(0.6335, grad_fn=<MeanBackward0>)\n",
      "Iteration 6400 loss:  tensor(0.4698, grad_fn=<MeanBackward0>)\n",
      "Iteration 6500 loss:  tensor(0.6220, grad_fn=<MeanBackward0>)\n",
      "Iteration 6600 loss:  tensor(0.4217, grad_fn=<MeanBackward0>)\n",
      "Iteration 6700 loss:  tensor(5.7971, grad_fn=<MeanBackward0>)\n",
      "Iteration 6800 loss:  tensor(0.8130, grad_fn=<MeanBackward0>)\n",
      "Iteration 6900 loss:  tensor(6.4585, grad_fn=<MeanBackward0>)\n",
      "Iteration 7000 loss:  tensor(68.2073, grad_fn=<MeanBackward0>)\n",
      "Iteration 7100 loss:  tensor(0.4267, grad_fn=<MeanBackward0>)\n",
      "Iteration 7200 loss:  tensor(15.1852, grad_fn=<MeanBackward0>)\n",
      "Iteration 7300 loss:  tensor(17.2881, grad_fn=<MeanBackward0>)\n",
      "Iteration 7400 loss:  tensor(0.3898, grad_fn=<MeanBackward0>)\n",
      "Iteration 7500 loss:  tensor(0.5590, grad_fn=<MeanBackward0>)\n",
      "Iteration 7600 loss:  tensor(0.1619, grad_fn=<MeanBackward0>)\n",
      "Iteration 7700 loss:  tensor(10.6829, grad_fn=<MeanBackward0>)\n",
      "Iteration 7800 loss:  tensor(13.8324, grad_fn=<MeanBackward0>)\n",
      "Iteration 7900 loss:  tensor(5.0128, grad_fn=<MeanBackward0>)\n",
      "Iteration 8000 loss:  tensor(1.8419, grad_fn=<MeanBackward0>)\n",
      "Iteration 8100 loss:  tensor(1.2424, grad_fn=<MeanBackward0>)\n",
      "Iteration 8200 loss:  tensor(0.5951, grad_fn=<MeanBackward0>)\n",
      "Iteration 8300 loss:  tensor(1.7179, grad_fn=<MeanBackward0>)\n",
      "Iteration 8400 loss:  tensor(1.6320, grad_fn=<MeanBackward0>)\n",
      "Iteration 8500 loss:  tensor(4.0434, grad_fn=<MeanBackward0>)\n",
      "Iteration 8600 loss:  tensor(3.8363, grad_fn=<MeanBackward0>)\n",
      "Iteration 8700 loss:  tensor(151.0781, grad_fn=<MeanBackward0>)\n",
      "Iteration 8800 loss:  tensor(6.4680, grad_fn=<MeanBackward0>)\n",
      "Iteration 8900 loss:  tensor(0.6276, grad_fn=<MeanBackward0>)\n",
      "Iteration 9000 loss:  tensor(3.2174, grad_fn=<MeanBackward0>)\n",
      "Iteration 9100 loss:  tensor(21.6040, grad_fn=<MeanBackward0>)\n",
      "Iteration 9200 loss:  tensor(5.7453, grad_fn=<MeanBackward0>)\n",
      "Iteration 9300 loss:  tensor(3.9196, grad_fn=<MeanBackward0>)\n",
      "Iteration 9400 loss:  tensor(1.6463, grad_fn=<MeanBackward0>)\n",
      "Iteration 9500 loss:  tensor(2.0129, grad_fn=<MeanBackward0>)\n",
      "Iteration 9600 loss:  tensor(1.7938, grad_fn=<MeanBackward0>)\n",
      "Iteration 9700 loss:  tensor(1.3660, grad_fn=<MeanBackward0>)\n",
      "Iteration 9800 loss:  tensor(26.2435, grad_fn=<MeanBackward0>)\n",
      "Iteration 9900 loss:  tensor(4.8245, grad_fn=<MeanBackward0>)\n"
     ]
    },
    {
     "data": {
      "image/png": "[encoded data removed]",
      "text/plain": [
       "<Figure size 640x480 with 1 Axes>"
      ]
     },
     "metadata": {},
     "output_type": "display_data"
    }
   ],
   "source": [
    "model = ReluModel()\n",
    "model_lr = 1e-4\n",
    "\n",
    "optimizer = torch.optim.AdamW(model.parameters(), lr=model_lr)\n",
    "loss = torch.nn.MSELoss()\n",
    "max_iter = 5000\n",
    "temps = torch.Tensor(temps)\n",
    "actuals = torch.Tensor(actuals)\n",
    "batch_size = 10\n",
    "for iter_ in range(max_iter):\n",
    "    # sample batch\n",
    "    if iter_ % 100 == 0:\n",
    "        print(f\"Iteration {iter_} loss: \", loss_value)\n",
    "    perm = torch.randperm(temps.size(0))\n",
    "    idx = perm[:batch_size]\n",
    "    samples = temps[idx].reshape(batch_size, 1)\n",
    "    optimizer.zero_grad()\n",
    "    pred_logZ = model(samples)\n",
    "    loss_value = torch.mean(loss(pred_logZ.reshape(-1), actuals[idx].reshape(-1)))\n",
    "    loss_value.backward()\n",
    "\n",
    "    optimizer.step()\n",
    "\n",
    "Ts = torch.linspace(1, 400, 400).reshape(-1, 1)\n",
    "temperature_plot(temps, preds, actuals, N, nn_temps=Ts, nn_preds=model(Ts))"
   ]
  },
  {
   "cell_type": "code",
   "execution_count": 17,
   "id": "3214753c-d8a3-4cd6-82bc-aa60b2697ddf",
   "metadata": {
    "tags": []
   },
   "outputs": [],
   "source": [
    "Ts = torch.Tensor(temps)"
   ]
  },
  {
   "cell_type": "code",
   "execution_count": 18,
   "id": "a013dedc-e439-42b5-8046-a8bc2ebf5a40",
   "metadata": {
    "tags": []
   },
   "outputs": [
    {
     "data": {
      "text/plain": [
       "tensor([  1.,  21.,  41.,  61.,  81., 101., 121., 141., 161., 181., 201., 221.,\n",
       "        241., 261., 281., 301., 321., 341., 361., 381.])"
      ]
     },
     "execution_count": 18,
     "metadata": {},
     "output_type": "execute_result"
    }
   ],
   "source": [
    "Ts"
   ]
  },
  {
   "cell_type": "code",
   "execution_count": 37,
   "id": "3919ca06-43cb-444b-a1d0-e79a36cd923e",
   "metadata": {
    "tags": []
   },
   "outputs": [
    {
     "data": {
      "text/plain": [
       "tensor([13, 19, 15, 17, 10])"
      ]
     },
     "execution_count": 37,
     "metadata": {},
     "output_type": "execute_result"
    }
   ],
   "source": [
    "idx"
   ]
  },
  {
   "cell_type": "code",
   "execution_count": 38,
   "id": "2658add2-b0c1-40f1-9245-253bcca9bd47",
   "metadata": {
    "tags": []
   },
   "outputs": [
    {
     "data": {
      "text/plain": [
       "[-371.35886617397216,\n",
       " -26.455508267309323,\n",
       " -18.04323122392163,\n",
       " -15.147194479465991,\n",
       " -13.681179030558694,\n",
       " -12.795200689395951,\n",
       " -12.200786345352906,\n",
       " -11.772876180204882,\n",
       " -11.448524765410177,\n",
       " -11.192706103994235,\n",
       " -10.984467618357264,\n",
       " -10.81056373148769,\n",
       " -10.662243363831273,\n",
       " -10.53351025847338,\n",
       " -10.420126984600987,\n",
       " -10.31901828866316,\n",
       " -10.22789986582696,\n",
       " -10.145039772545712,\n",
       " -10.069100697212527,\n",
       " -9.999033056810749]"
      ]
     },
     "execution_count": 38,
     "metadata": {},
     "output_type": "execute_result"
    }
   ],
   "source": [
    "actuals"
   ]
  },
  {
   "cell_type": "code",
   "execution_count": 39,
   "id": "c7fadf7d-e01c-4849-975b-d9319a7f4744",
   "metadata": {
    "tags": []
   },
   "outputs": [
    {
     "ename": "TypeError",
     "evalue": "only integer tensors of a single element can be converted to an index",
     "output_type": "error",
     "traceback": [
      "\u001b[0;31m---------------------------------------------------------------------------\u001b[0m",
      "\u001b[0;31mTypeError\u001b[0m                                 Traceback (most recent call last)",
      "Cell \u001b[0;32mIn[39], line 1\u001b[0m\n\u001b[0;32m----> 1\u001b[0m \u001b[43mactuals\u001b[49m\u001b[43m[\u001b[49m\u001b[43midx\u001b[49m\u001b[43m]\u001b[49m\n",
      "\u001b[0;31mTypeError\u001b[0m: only integer tensors of a single element can be converted to an index"
     ]
    }
   ],
   "source": [
    "actuals[idx]"
   ]
  },
  {
   "cell_type": "code",
   "execution_count": 40,
   "id": "2408508a-1dbc-4f63-be1d-f331dbf3e35c",
   "metadata": {
    "tags": []
   },
   "outputs": [
    {
     "data": {
      "text/plain": [
       "tensor([-10.5335,  -9.9990, -10.3190, -10.1450, -10.9845])"
      ]
     },
     "execution_count": 40,
     "metadata": {},
     "output_type": "execute_result"
    }
   ],
   "source": [
    "torch.Tensor(actuals)[idx]"
   ]
  },
  {
   "cell_type": "code",
   "execution_count": null,
   "id": "9c58e649-57ba-4ebc-b27c-193e0323e8b5",
   "metadata": {},
   "outputs": [],
   "source": []
  }
 ],
 "metadata": {
  "kernelspec": {
   "display_name": "Python 3 (ipykernel)",
   "language": "python",
   "name": "python3"
  },
  "language_info": {
   "codemirror_mode": {
    "name": "ipython",
    "version": 3
   },
   "file_extension": ".py",
   "mimetype": "text/x-python",
   "name": "python",
   "nbconvert_exporter": "python",
   "pygments_lexer": "ipython3",
   "version": "3.11.0"
  }
 },
 "nbformat": 4,
 "nbformat_minor": 5
}
